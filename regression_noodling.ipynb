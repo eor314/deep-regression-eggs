{
 "cells": [
  {
   "cell_type": "code",
   "execution_count": 1,
   "metadata": {},
   "outputs": [],
   "source": [
    "from __future__ import print_function, division\n",
    "import argparse\n",
    "import torch\n",
    "import torch.nn as nn\n",
    "import torch.optim as optim\n",
    "from torch.optim import lr_scheduler\n",
    "import numpy as np\n",
    "import torchvision\n",
    "from torchvision import datasets, models, transforms\n",
    "import matplotlib.pyplot as plt\n",
    "import time\n",
    "import datetime\n",
    "import os\n",
    "import copy\n",
    "import sys\n",
    "from ignite.engine import Events, create_supervised_trainer, create_supervised_evaluator\n",
    "from ignite.metrics import Loss, RunningAverage, RootMeanSquaredError\n",
    "from ignite.handlers import ModelCheckpoint, EarlyStopping\n",
    "from utils.datatools import PlanktonRegressionDataset\n",
    "\n",
    "sys.path.append('../finetune_copepod')\n",
    "from finetune_model import train_model"
   ]
  },
  {
   "cell_type": "markdown",
   "metadata": {},
   "source": [
    "Define the image transforms"
   ]
  },
  {
   "cell_type": "code",
   "execution_count": 2,
   "metadata": {},
   "outputs": [],
   "source": [
    "data_transforms = {\n",
    "    'train': transforms.Compose([\n",
    "        transforms.Resize((224,224)),\n",
    "        transforms.RandomHorizontalFlip(),\n",
    "        transforms.RandomVerticalFlip(),\n",
    "        #transforms.RandomAffine(degrees=0,scale=(0.5, 2), shear=(-5, 5)),\n",
    "        transforms.ToTensor(),\n",
    "        transforms.Normalize([0.485, 0.456, 0.406], [0.229, 0.224, 0.225])\n",
    "    ]),\n",
    "    'val': transforms.Compose([\n",
    "        transforms.Resize((224,224)),\n",
    "        transforms.ToTensor(),\n",
    "        transforms.Normalize([0.485, 0.456, 0.406], [0.229, 0.224, 0.225])\n",
    "    ]),\n",
    "}"
   ]
  },
  {
   "cell_type": "markdown",
   "metadata": {},
   "source": [
    "Define file paths, datasets, and loaders."
   ]
  },
  {
   "cell_type": "code",
   "execution_count": 3,
   "metadata": {},
   "outputs": [],
   "source": [
    "vocpath = '/home/eorenstein/VOCCopepodEgg'\n",
    "imgset = 'DeepReg-EggOnly-150321'\n",
    "\n",
    "# training data\n",
    "train_dataset = PlanktonRegressionDataset(root=vocpath,\n",
    "                                          img_set=f'{imgset}/egg_train.txt',\n",
    "                                          transform=data_transforms['train'],\n",
    "                                         )\n",
    "train_loader = torch.utils.data.DataLoader(train_dataset, batch_size=64,\n",
    "                                           shuffle=True, num_workers=4)\n",
    "\n",
    "# validation data\n",
    "val_dataset = PlanktonRegressionDataset(root=vocpath,\n",
    "                                        img_set=f'{imgset}/egg_val.txt',\n",
    "                                        transform=data_transforms['val'],\n",
    "                                       )\n",
    "val_loader = torch.utils.data.DataLoader(val_dataset, batch_size=64,\n",
    "                                         shuffle=True, num_workers=4)"
   ]
  },
  {
   "cell_type": "markdown",
   "metadata": {},
   "source": [
    "Grab the model with the pretrained weights."
   ]
  },
  {
   "cell_type": "code",
   "execution_count": 4,
   "metadata": {},
   "outputs": [],
   "source": [
    "model = models.resnet18(pretrained=True)"
   ]
  },
  {
   "cell_type": "markdown",
   "metadata": {},
   "source": [
    "Get the number of features at the input of the final fully connected layer."
   ]
  },
  {
   "cell_type": "code",
   "execution_count": 5,
   "metadata": {},
   "outputs": [
    {
     "name": "stdout",
     "output_type": "stream",
     "text": [
      "512\n"
     ]
    }
   ],
   "source": [
    "num_ftrs = model.fc.in_features\n",
    "print(num_ftrs)"
   ]
  },
  {
   "cell_type": "markdown",
   "metadata": {},
   "source": [
    "Reset the final fully connected layer to give a single output."
   ]
  },
  {
   "cell_type": "code",
   "execution_count": 6,
   "metadata": {},
   "outputs": [],
   "source": [
    "model.fc = nn.Linear(num_ftrs, 1)\n",
    "\n",
    "# make sure the model will accept float inputs\n",
    "model = model.float()"
   ]
  },
  {
   "cell_type": "markdown",
   "metadata": {},
   "source": [
    "Find the gpu and send the model there."
   ]
  },
  {
   "cell_type": "code",
   "execution_count": 7,
   "metadata": {},
   "outputs": [],
   "source": [
    "device = torch.device(\"cuda:0\" if torch.cuda.is_available() else \"cpu\")\n",
    "\n",
    "model = model.to(device)"
   ]
  },
  {
   "cell_type": "markdown",
   "metadata": {},
   "source": [
    "Define the loss function and the optimizer. \n",
    "\n",
    "- Loss: Start with [Mean Squared Error](https://pytorch.org/docs/stable/generated/torch.nn.MSELoss.html#torch.nn.MSELoss). Per [Lathuiliere et al., 2020](https://arxiv.org/abs/1803.08450), also worth experimenting with [Mean Absolute Error](https://pytorch.org/docs/stable/generated/torch.nn.L1Loss.html#torch.nn.L1Loss) and Huber loss.\n",
    "- Optimizer: Lathuiliere et al., 2020 found that Adam optimzer most worked best with ResNet backbones."
   ]
  },
  {
   "cell_type": "code",
   "execution_count": 8,
   "metadata": {},
   "outputs": [],
   "source": [
    "criterion = nn.MSELoss()\n",
    "\n",
    "# Observe that all parameters are being optimized\n",
    "optimizer = optim.Adam(model.parameters(), lr=0.0001)"
   ]
  },
  {
   "cell_type": "markdown",
   "metadata": {},
   "source": [
    "Use Ignite to instatiate a training and validation cycle"
   ]
  },
  {
   "cell_type": "code",
   "execution_count": 9,
   "metadata": {},
   "outputs": [],
   "source": [
    "# creating trainer,evaluator\n",
    "trainer = create_supervised_trainer(model, optimizer, criterion, device=device)\n",
    "metrics = {\n",
    "    'RMSE':RootMeanSquaredError(),\n",
    "    'MSELoss':Loss(criterion),\n",
    "}\n",
    "\n",
    "train_evaluator = create_supervised_evaluator(model, metrics=metrics, device=device)\n",
    "val_evaluator = create_supervised_evaluator(model, metrics=metrics, device=device)\n",
    "\n",
    "training_history = {'RMSE':[],'loss':[]}\n",
    "validation_history = {'RMSE':[],'loss':[]}\n",
    "last_epoch = []"
   ]
  },
  {
   "cell_type": "markdown",
   "metadata": {},
   "source": [
    "Keep a running average of the loss for tracking."
   ]
  },
  {
   "cell_type": "code",
   "execution_count": 10,
   "metadata": {},
   "outputs": [],
   "source": [
    "RunningAverage(output_transform=lambda x: x).attach(trainer, 'loss')"
   ]
  },
  {
   "cell_type": "markdown",
   "metadata": {},
   "source": [
    "Define an early stopping condition. This stops the training if the loss does not decrease after 10 epochs"
   ]
  },
  {
   "cell_type": "code",
   "execution_count": 11,
   "metadata": {},
   "outputs": [
    {
     "data": {
      "text/plain": [
       "<ignite.engine.events.RemovableEventHandle at 0x7efb9accdd50>"
      ]
     },
     "execution_count": 11,
     "metadata": {},
     "output_type": "execute_result"
    }
   ],
   "source": [
    "def score_function(engine):\n",
    "    val_loss = engine.state.metrics['MSELoss']\n",
    "    return -val_loss\n",
    "\n",
    "handler = EarlyStopping(patience=10, score_function=score_function, trainer=trainer)\n",
    "val_evaluator.add_event_handler(Events.COMPLETED, handler)"
   ]
  },
  {
   "cell_type": "markdown",
   "metadata": {},
   "source": [
    "Login functions to be evaluated at the end of each epoch."
   ]
  },
  {
   "cell_type": "code",
   "execution_count": 12,
   "metadata": {},
   "outputs": [
    {
     "data": {
      "text/plain": [
       "<ignite.engine.events.RemovableEventHandle at 0x7efb9accdcd0>"
      ]
     },
     "execution_count": 12,
     "metadata": {},
     "output_type": "execute_result"
    }
   ],
   "source": [
    "@trainer.on(Events.EPOCH_COMPLETED)\n",
    "def log_training_results(trainer):\n",
    "    train_evaluator.run(train_loader)\n",
    "    metrics = train_evaluator.state.metrics\n",
    "    rmse = metrics['RMSE']\n",
    "    loss = metrics['MSELoss']\n",
    "    last_epoch.append(0)\n",
    "    training_history['RMSE'].append(rmse)\n",
    "    training_history['loss'].append(loss)\n",
    "    print(\"Training Results - Epoch: {}  RMSE: {:.2f} Avg loss: {:.2f}\"\n",
    "          .format(trainer.state.epoch, rmse, loss))\n",
    "\n",
    "def log_validation_results(trainer):\n",
    "    val_evaluator.run(val_loader)\n",
    "    metrics = val_evaluator.state.metrics\n",
    "    rmse = metrics['RMSE']\n",
    "    loss = metrics['MSELoss']\n",
    "    validation_history['RMSE'].append(rmse)\n",
    "    validation_history['loss'].append(loss)\n",
    "    print(\"Validation Results - Epoch: {}  RMSE: {:.2f} Avg loss: {:.2f}\"\n",
    "          .format(trainer.state.epoch, rmse, loss))\n",
    "    \n",
    "trainer.add_event_handler(Events.EPOCH_COMPLETED, log_validation_results)"
   ]
  },
  {
   "cell_type": "markdown",
   "metadata": {},
   "source": [
    "Train the network for a few epochs."
   ]
  },
  {
   "cell_type": "code",
   "execution_count": 13,
   "metadata": {},
   "outputs": [
    {
     "name": "stdout",
     "output_type": "stream",
     "text": [
      "Training Results - Epoch: 1  RMSE: 0.41 Avg loss: 0.17\n",
      "Validation Results - Epoch: 1  RMSE: 0.43 Avg loss: 0.18\n",
      "Training Results - Epoch: 2  RMSE: 0.32 Avg loss: 0.10\n",
      "Validation Results - Epoch: 2  RMSE: 0.35 Avg loss: 0.12\n",
      "Training Results - Epoch: 3  RMSE: 0.24 Avg loss: 0.06\n",
      "Validation Results - Epoch: 3  RMSE: 0.28 Avg loss: 0.08\n",
      "Training Results - Epoch: 4  RMSE: 0.18 Avg loss: 0.03\n",
      "Validation Results - Epoch: 4  RMSE: 0.24 Avg loss: 0.06\n",
      "Training Results - Epoch: 5  RMSE: 0.18 Avg loss: 0.03\n",
      "Validation Results - Epoch: 5  RMSE: 0.23 Avg loss: 0.05\n",
      "Training Results - Epoch: 6  RMSE: 0.16 Avg loss: 0.03\n",
      "Validation Results - Epoch: 6  RMSE: 0.23 Avg loss: 0.05\n",
      "Training Results - Epoch: 7  RMSE: 0.24 Avg loss: 0.06\n",
      "Validation Results - Epoch: 7  RMSE: 0.29 Avg loss: 0.09\n",
      "Training Results - Epoch: 8  RMSE: 0.16 Avg loss: 0.03\n",
      "Validation Results - Epoch: 8  RMSE: 0.25 Avg loss: 0.06\n",
      "Training Results - Epoch: 9  RMSE: 0.20 Avg loss: 0.04\n",
      "Validation Results - Epoch: 9  RMSE: 0.24 Avg loss: 0.06\n",
      "Training Results - Epoch: 10  RMSE: 0.15 Avg loss: 0.02\n",
      "Validation Results - Epoch: 10  RMSE: 0.22 Avg loss: 0.05\n",
      "Training Results - Epoch: 11  RMSE: 0.16 Avg loss: 0.02\n",
      "Validation Results - Epoch: 11  RMSE: 0.23 Avg loss: 0.05\n",
      "Training Results - Epoch: 12  RMSE: 0.16 Avg loss: 0.03\n",
      "Validation Results - Epoch: 12  RMSE: 0.23 Avg loss: 0.05\n",
      "Training Results - Epoch: 13  RMSE: 0.19 Avg loss: 0.04\n",
      "Validation Results - Epoch: 13  RMSE: 0.26 Avg loss: 0.07\n",
      "Training Results - Epoch: 14  RMSE: 0.12 Avg loss: 0.02\n",
      "Validation Results - Epoch: 14  RMSE: 0.23 Avg loss: 0.05\n",
      "Training Results - Epoch: 15  RMSE: 0.13 Avg loss: 0.02\n",
      "Validation Results - Epoch: 15  RMSE: 0.23 Avg loss: 0.05\n",
      "Training Results - Epoch: 16  RMSE: 0.11 Avg loss: 0.01\n",
      "Validation Results - Epoch: 16  RMSE: 0.23 Avg loss: 0.05\n",
      "Training Results - Epoch: 17  RMSE: 0.15 Avg loss: 0.02\n",
      "Validation Results - Epoch: 17  RMSE: 0.24 Avg loss: 0.06\n",
      "Training Results - Epoch: 18  RMSE: 0.14 Avg loss: 0.02\n",
      "Validation Results - Epoch: 18  RMSE: 0.24 Avg loss: 0.06\n",
      "Training Results - Epoch: 19  RMSE: 0.12 Avg loss: 0.01\n",
      "Validation Results - Epoch: 19  RMSE: 0.24 Avg loss: 0.06\n",
      "Training Results - Epoch: 20  RMSE: 0.11 Avg loss: 0.01\n"
     ]
    },
    {
     "name": "stderr",
     "output_type": "stream",
     "text": [
      "2021-03-16 14:54:10,128 ignite.handlers.early_stopping.EarlyStopping INFO: EarlyStopping: Stop training\n"
     ]
    },
    {
     "name": "stdout",
     "output_type": "stream",
     "text": [
      "Validation Results - Epoch: 20  RMSE: 0.22 Avg loss: 0.05\n"
     ]
    },
    {
     "data": {
      "text/plain": [
       "State:\n",
       "\titeration: 420\n",
       "\tepoch: 20\n",
       "\tepoch_length: 21\n",
       "\tmax_epochs: 20\n",
       "\toutput: 0.017718879505991936\n",
       "\tbatch: <class 'list'>\n",
       "\tmetrics: <class 'dict'>\n",
       "\tdataloader: <class 'torch.utils.data.dataloader.DataLoader'>\n",
       "\tseed: <class 'NoneType'>\n",
       "\ttimes: <class 'dict'>"
      ]
     },
     "execution_count": 13,
     "metadata": {},
     "output_type": "execute_result"
    }
   ],
   "source": [
    "trainer.run(train_loader, max_epochs=20)"
   ]
  },
  {
   "cell_type": "code",
   "execution_count": 27,
   "metadata": {},
   "outputs": [],
   "source": [
    "model.eval()\n",
    "preds = []\n",
    "gt = []\n",
    "\n",
    "with torch.no_grad():\n",
    "    for i, (inputs, labels) in enumerate(val_loader):\n",
    "        inputs = inputs.to(device)\n",
    "        labels = labels.to(device)\n",
    "\n",
    "        outputs = model(inputs)\n",
    "        preds.extend(outputs.flatten().tolist())\n",
    "        gt.extend(labels.flatten().tolist())"
   ]
  },
  {
   "cell_type": "code",
   "execution_count": 55,
   "metadata": {},
   "outputs": [
    {
     "data": {
      "text/plain": [
       "(0.0, 1.5)"
      ]
     },
     "execution_count": 55,
     "metadata": {},
     "output_type": "execute_result"
    },
    {
     "data": {
      "image/png": "[encoded data removed]",
      "text/plain": [
       "<Figure size 432x288 with 1 Axes>"
      ]
     },
     "metadata": {
      "needs_background": "light"
     },
     "output_type": "display_data"
    }
   ],
   "source": [
    "plt.scatter(gt, preds)\n",
    "plt.plot(np.unique(gt), np.poly1d(np.polyfit(gt, preds, 1))(np.unique(gt)), color='r')\n",
    "plt.plot(np.arange(0,3,0.01), np.arange(0,3,0.01), color='g')\n",
    "plt.xlabel('Ground Truth (% with egg pixels)')\n",
    "plt.ylabel('Predicted (% with egg pixels)')\n",
    "plt.xlim([0, 3])\n",
    "plt.ylim([0, 1.5])"
   ]
  },
  {
   "cell_type": "code",
   "execution_count": 61,
   "metadata": {},
   "outputs": [
    {
     "data": {
      "text/plain": [
       "0.37919294096276585"
      ]
     },
     "execution_count": 61,
     "metadata": {},
     "output_type": "execute_result"
    }
   ],
   "source": [
    "coeffs = np.polyfit(gt, preds, 1)\n",
    "\n",
    "# r-squared\n",
    "p = np.poly1d(coeffs)\n",
    "\n",
    "yhat = p(gt)                         # or [p(z) for z in x]\n",
    "ybar = np.sum(preds)/len(preds)          # or sum(y)/len(y)\n",
    "ssreg = np.sum((yhat-ybar)**2)   # or sum([ (yihat - ybar)**2 for yihat in yhat])\n",
    "sstot = np.sum((preds - ybar)**2)    # or sum([ (yi - ybar)**2 for yi in y])\n",
    "ssreg / sstot"
   ]
  },
  {
   "cell_type": "code",
   "execution_count": 59,
   "metadata": {},
   "outputs": [
    {
     "data": {
      "text/plain": [
       "(0.0, 1.2)"
      ]
     },
     "execution_count": 59,
     "metadata": {},
     "output_type": "execute_result"
    },
    {
     "data": {
      "image/png": "[encoded data removed]",
      "text/plain": [
       "<Figure size 432x288 with 1 Axes>"
      ]
     },
     "metadata": {
      "needs_background": "light"
     },
     "output_type": "display_data"
    }
   ],
   "source": [
    "test_gt = np.array(gt)\n",
    "test_pred = np.array(preds)\n",
    "test_pred = test_pred[np.nonzero(test_gt<1.5)]\n",
    "test_gt = test_gt[np.nonzero(test_gt<1.5)]\n",
    "\n",
    "plt.scatter(test_gt, test_pred)\n",
    "plt.plot(np.unique(test_gt), \n",
    "         np.poly1d(np.polyfit(test_gt, test_pred, 1))(np.unique(test_gt)), color='r')\n",
    "plt.plot(np.arange(0,3,0.01), np.arange(0,3,0.01), color='g')\n",
    "plt.xlabel('Ground Truth (% with egg pixels)')\n",
    "plt.ylabel('Predicted (% with egg pixels)')\n",
    "plt.xlim([0, 1.5])\n",
    "plt.ylim([0, 1.2])"
   ]
  },
  {
   "cell_type": "code",
   "execution_count": 50,
   "metadata": {},
   "outputs": [
    {
     "data": {
      "text/plain": [
       "0.427299489877151"
      ]
     },
     "execution_count": 50,
     "metadata": {},
     "output_type": "execute_result"
    }
   ],
   "source": [
    "coeffs = np.polyfit(test_gt, test_pred, 1)\n",
    "\n",
    "# r-squared\n",
    "p = np.poly1d(coeffs)\n",
    "\n",
    "yhat = p(gt)                         # or [p(z) for z in x]\n",
    "ybar = np.sum(test_pred)/len(test_pred)          # or sum(y)/len(y)\n",
    "ssreg = np.sum((yhat-ybar)**2)   # or sum([ (yihat - ybar)**2 for yihat in yhat])\n",
    "sstot = np.sum((test_pred - ybar)**2)    # or sum([ (yi - ybar)**2 for yi in y])\n",
    "ssreg / sstot"
   ]
  },
  {
   "cell_type": "code",
   "execution_count": 64,
   "metadata": {},
   "outputs": [],
   "source": [
    "now = datetime.datetime.now()\n",
    "now = now.strftime(\"%m%d%y-%H%M\")\n",
    "torch.save(model.state_dict(), \n",
    "           os.path.join('/home/eorenstein/python_code/deep-regression/outputs',\n",
    "                        f'{now}_resnet18_mseloss_20epochs.pt'))"
   ]
  },
  {
   "cell_type": "code",
   "execution_count": null,
   "metadata": {},
   "outputs": [],
   "source": []
  }
 ],
 "metadata": {
  "kernelspec": {
   "display_name": "deep-regression",
   "language": "python",
   "name": "deep-regression"
  },
  "language_info": {
   "codemirror_mode": {
    "name": "ipython",
    "version": 3
   },
   "file_extension": ".py",
   "mimetype": "text/x-python",
   "name": "python",
   "nbconvert_exporter": "python",
   "pygments_lexer": "ipython3",
   "version": "3.7.10"
  }
 },
 "nbformat": 4,
 "nbformat_minor": 4
}
