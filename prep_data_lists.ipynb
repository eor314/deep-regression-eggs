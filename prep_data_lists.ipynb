{
 "cells": [
  {
   "cell_type": "markdown",
   "metadata": {},
   "source": [
    "# Prepare data\n",
    "## 15/3/21\n",
    "\n",
    "Compute percent with-egg pixels in ROIs and save train/val/test lists with the information. Assume VOC structure and save each line as:\n",
    "\n",
    ">`image-id %with-egg[float]`\n",
    "\n"
   ]
  },
  {
   "cell_type": "code",
   "execution_count": 1,
   "metadata": {},
   "outputs": [],
   "source": [
    "import os\n",
    "import glob\n",
    "import sys\n",
    "import numpy as np\n",
    "import cv2\n",
    "import matplotlib.pyplot as plt"
   ]
  },
  {
   "cell_type": "markdown",
   "metadata": {},
   "source": [
    "Specific locations, files, etc. "
   ]
  },
  {
   "cell_type": "code",
   "execution_count": 2,
   "metadata": {},
   "outputs": [],
   "source": [
    "maskdir = '/home/eorenstein/VOCCopepodEgg/SegmentationMask'\n",
    "imgsetdir = '/home/eorenstein/VOCCopepodEgg/ImageSets/Main/SplitByProfile-230221/'\n",
    "imgset = 'egg_test.txt'\n",
    "\n",
    "savedir = '/home/eorenstein/VOCCopepodEgg/ImageSets/Main/DeepReg-EggOnly-150321'\n",
    "\n",
    "if not os.path.exists(savedir):\n",
    "    os.mkdir(savedir)"
   ]
  },
  {
   "cell_type": "markdown",
   "metadata": {},
   "source": [
    "Get the desired list of img-ids."
   ]
  },
  {
   "cell_type": "code",
   "execution_count": 3,
   "metadata": {},
   "outputs": [],
   "source": [
    "with open(os.path.join(imgsetdir, imgset), 'r') as ff:\n",
    "    imgs = list(ff)\n",
    "    ff.close()\n",
    "    \n",
    "imgs = [line.strip() for line in imgs]"
   ]
  },
  {
   "cell_type": "markdown",
   "metadata": {},
   "source": [
    "Define a function to get the percent with-egg pixels from the masks."
   ]
  },
  {
   "cell_type": "code",
   "execution_count": 4,
   "metadata": {},
   "outputs": [],
   "source": [
    "def get_pct(imgpath):\n",
    "    \"\"\"\n",
    "    return the % with-egg pixels in a mask\n",
    "    assumes:\n",
    "        - pixel value 50 == copepod pixel\n",
    "        - pixel value 100 == egg pixel\n",
    "        \n",
    "    :param imgpath: absolute path to segmentation mask\n",
    "    :return pct: % with-egg pixels [float]\n",
    "    \"\"\"\n",
    "    \n",
    "    mask = cv2.imread(imgpath, 0)\n",
    "    num_cope = np.sum(mask==50, dtype=float)\n",
    "    num_egg = np.sum(mask==100, dtype=float)\n",
    "    \n",
    "    return np.around(num_egg/num_cope, decimals=4)"
   ]
  },
  {
   "cell_type": "markdown",
   "metadata": {},
   "source": [
    "Iterate over the specified list"
   ]
  },
  {
   "cell_type": "code",
   "execution_count": 5,
   "metadata": {},
   "outputs": [
    {
     "name": "stdout",
     "output_type": "stream",
     "text": [
      "('65574434', 0.785)\n"
     ]
    }
   ],
   "source": [
    "tmp = []\n",
    "for imgid in imgs:\n",
    "    img = os.path.join(maskdir, imgid + '.png')\n",
    "    pct = get_pct(img)\n",
    "    tmp.append((imgid, pct))\n",
    "\n",
    "# print one out to make sure it looks reasonable\n",
    "print(tmp[10])"
   ]
  },
  {
   "cell_type": "markdown",
   "metadata": {},
   "source": [
    "Save out to the specified directory"
   ]
  },
  {
   "cell_type": "code",
   "execution_count": 6,
   "metadata": {},
   "outputs": [],
   "source": [
    "savepath = os.path.join(savedir, imgset)\n",
    "\n",
    "with open(savepath, 'w') as ff:\n",
    "    for line in tmp:\n",
    "        ff.write(f'{line[0]} {line[1]}\\n')\n",
    "    ff.close()"
   ]
  },
  {
   "cell_type": "code",
   "execution_count": null,
   "metadata": {},
   "outputs": [],
   "source": []
  }
 ],
 "metadata": {
  "kernelspec": {
   "display_name": "deep-regression",
   "language": "python",
   "name": "deep-regression"
  },
  "language_info": {
   "codemirror_mode": {
    "name": "ipython",
    "version": 3
   },
   "file_extension": ".py",
   "mimetype": "text/x-python",
   "name": "python",
   "nbconvert_exporter": "python",
   "pygments_lexer": "ipython3",
   "version": "3.7.10"
  }
 },
 "nbformat": 4,
 "nbformat_minor": 4
}
